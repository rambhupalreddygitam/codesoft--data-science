{
  "nbformat": 4,
  "nbformat_minor": 0,
  "metadata": {
    "colab": {
      "provenance": [],
      "include_colab_link": true
    },
    "kernelspec": {
      "name": "python3",
      "display_name": "Python 3"
    },
    "language_info": {
      "name": "python"
    }
  },
  "cells": [
    {
      "cell_type": "markdown",
      "metadata": {
        "id": "view-in-github",
        "colab_type": "text"
      },
      "source": [
        "<a href=\"https://colab.research.google.com/github/rambhupalreddygitam/codesoft--data-science/blob/main/credit_fraud.ipynb\" target=\"_parent\"><img src=\"https://colab.research.google.com/assets/colab-badge.svg\" alt=\"Open In Colab\"/></a>"
      ]
    },
    {
      "cell_type": "code",
      "execution_count": null,
      "metadata": {
        "id": "IB__W-KRo3Yx"
      },
      "outputs": [],
      "source": [
        "import pandas as pd\n",
        "import numpy as np\n",
        "from sklearn.model_selection import train_test_split\n",
        "from sklearn.preprocessing import StandardScaler\n",
        "from sklearn.ensemble import RandomForestClassifier\n",
        "from sklearn.linear_model import LogisticRegression\n",
        "from sklearn.metrics import classification_report, confusion_matrix\n",
        "from imblearn.over_sampling import SMOTE\n",
        "import matplotlib.pyplot as plt\n",
        "import seaborn as sns"
      ]
    },
    {
      "cell_type": "code",
      "source": [
        "data = pd.read_csv('/content/creditcard.csv')\n"
      ],
      "metadata": {
        "id": "tlQl_03qo_Kd"
      },
      "execution_count": null,
      "outputs": []
    },
    {
      "cell_type": "code",
      "source": [
        "print(data.head())\n",
        "print(data.info())\n",
        "print(data.describe())\n"
      ],
      "metadata": {
        "colab": {
          "base_uri": "https://localhost:8080/"
        },
        "id": "0T8kJ6fiqCAz",
        "outputId": "688f5ecd-69d7-478b-9059-b8094d6ea810"
      },
      "execution_count": null,
      "outputs": [
        {
          "output_type": "stream",
          "name": "stdout",
          "text": [
            "   Time        V1        V2        V3        V4        V5        V6        V7  \\\n",
            "0     0 -1.359807 -0.072781  2.536347  1.378155 -0.338321  0.462388  0.239599   \n",
            "1     0  1.191857  0.266151  0.166480  0.448154  0.060018 -0.082361 -0.078803   \n",
            "2     1 -1.358354 -1.340163  1.773209  0.379780 -0.503198  1.800499  0.791461   \n",
            "3     1 -0.966272 -0.185226  1.792993 -0.863291 -0.010309  1.247203  0.237609   \n",
            "4     2 -1.158233  0.877737  1.548718  0.403034 -0.407193  0.095921  0.592941   \n",
            "\n",
            "         V8        V9  ...       V21       V22       V23       V24       V25  \\\n",
            "0  0.098698  0.363787  ... -0.018307  0.277838 -0.110474  0.066928  0.128539   \n",
            "1  0.085102 -0.255425  ... -0.225775 -0.638672  0.101288 -0.339846  0.167170   \n",
            "2  0.247676 -1.514654  ...  0.247998  0.771679  0.909412 -0.689281 -0.327642   \n",
            "3  0.377436 -1.387024  ... -0.108300  0.005274 -0.190321 -1.175575  0.647376   \n",
            "4 -0.270533  0.817739  ... -0.009431  0.798278 -0.137458  0.141267 -0.206010   \n",
            "\n",
            "        V26       V27       V28  Amount  Class  \n",
            "0 -0.189115  0.133558 -0.021053  149.62    0.0  \n",
            "1  0.125895 -0.008983  0.014724    2.69    0.0  \n",
            "2 -0.139097 -0.055353 -0.059752  378.66    0.0  \n",
            "3 -0.221929  0.062723  0.061458  123.50    0.0  \n",
            "4  0.502292  0.219422  0.215153   69.99    0.0  \n",
            "\n",
            "[5 rows x 31 columns]\n",
            "<class 'pandas.core.frame.DataFrame'>\n",
            "RangeIndex: 13954 entries, 0 to 13953\n",
            "Data columns (total 31 columns):\n",
            " #   Column  Non-Null Count  Dtype  \n",
            "---  ------  --------------  -----  \n",
            " 0   Time    13954 non-null  int64  \n",
            " 1   V1      13954 non-null  float64\n",
            " 2   V2      13954 non-null  float64\n",
            " 3   V3      13954 non-null  float64\n",
            " 4   V4      13954 non-null  float64\n",
            " 5   V5      13954 non-null  float64\n",
            " 6   V6      13954 non-null  float64\n",
            " 7   V7      13954 non-null  float64\n",
            " 8   V8      13954 non-null  float64\n",
            " 9   V9      13954 non-null  float64\n",
            " 10  V10     13954 non-null  float64\n",
            " 11  V11     13954 non-null  float64\n",
            " 12  V12     13954 non-null  float64\n",
            " 13  V13     13954 non-null  float64\n",
            " 14  V14     13954 non-null  float64\n",
            " 15  V15     13954 non-null  float64\n",
            " 16  V16     13954 non-null  float64\n",
            " 17  V17     13954 non-null  float64\n",
            " 18  V18     13954 non-null  float64\n",
            " 19  V19     13954 non-null  float64\n",
            " 20  V20     13954 non-null  float64\n",
            " 21  V21     13954 non-null  float64\n",
            " 22  V22     13954 non-null  float64\n",
            " 23  V23     13954 non-null  float64\n",
            " 24  V24     13954 non-null  float64\n",
            " 25  V25     13954 non-null  float64\n",
            " 26  V26     13954 non-null  float64\n",
            " 27  V27     13954 non-null  float64\n",
            " 28  V28     13954 non-null  float64\n",
            " 29  Amount  13953 non-null  float64\n",
            " 30  Class   13953 non-null  float64\n",
            "dtypes: float64(30), int64(1)\n",
            "memory usage: 3.3 MB\n",
            "None\n",
            "               Time            V1            V2            V3            V4  \\\n",
            "count  13954.000000  13954.000000  13954.000000  13954.000000  13954.000000   \n",
            "mean   10121.161817     -0.235676      0.284287      0.846047      0.302775   \n",
            "std     7739.625811      1.720315      1.394804      1.561376      1.500595   \n",
            "min        0.000000    -27.670569    -34.607649    -24.667741     -4.657545   \n",
            "25%     2984.250000     -0.969786     -0.282728      0.407297     -0.623141   \n",
            "50%     9086.500000     -0.319439      0.252904      0.960978      0.220104   \n",
            "75%    17103.500000      1.162662      0.884741      1.607031      1.198942   \n",
            "max    24759.000000      1.960497     10.558600      4.101716     11.927512   \n",
            "\n",
            "                 V5            V6            V7            V8            V9  \\\n",
            "count  13954.000000  13954.000000  13954.000000  13954.000000  13954.000000   \n",
            "mean      -0.118730      0.128013     -0.157297     -0.016148      0.989827   \n",
            "std        1.289494      1.320395      1.238583      1.262024      1.214044   \n",
            "min      -32.092129    -23.496714    -26.548144    -23.632502     -7.175097   \n",
            "25%       -0.717155     -0.624025     -0.616307     -0.182270      0.288101   \n",
            "50%       -0.191627     -0.144198     -0.111960      0.016945      0.971414   \n",
            "75%        0.351255      0.508494      0.421830      0.265736      1.654184   \n",
            "max       34.099309     21.393069     34.303177     10.535558     10.392889   \n",
            "\n",
            "       ...           V21           V22           V23           V24  \\\n",
            "count  ...  13954.000000  13954.000000  13954.000000  13954.000000   \n",
            "mean   ...     -0.068037     -0.157471     -0.035585      0.011158   \n",
            "std    ...      0.873942      0.621845      0.499807      0.587225   \n",
            "min    ...    -11.468435     -8.593642    -19.254328     -2.512377   \n",
            "25%    ...     -0.271778     -0.549723     -0.173807     -0.339656   \n",
            "50%    ...     -0.132304     -0.122777     -0.045041      0.060208   \n",
            "75%    ...      0.018677      0.228997      0.069750      0.392734   \n",
            "max    ...     22.614889      4.534454     13.876221      3.200201   \n",
            "\n",
            "                V25           V26           V27           V28        Amount  \\\n",
            "count  13954.000000  13954.000000  13954.000000  13954.000000  13953.000000   \n",
            "mean       0.117019      0.035544      0.012787      0.002122     63.882442   \n",
            "std        0.427953      0.558290      0.399550      0.255710    177.887021   \n",
            "min       -4.781606     -1.338556     -7.976100     -3.575312      0.000000   \n",
            "25%       -0.135887     -0.374596     -0.076862     -0.014869      5.490000   \n",
            "50%        0.155162     -0.035825     -0.000950      0.016238     15.690000   \n",
            "75%        0.393032      0.375271      0.098516      0.072497     52.150000   \n",
            "max        5.525093      3.517346      8.254376      4.860769   7712.430000   \n",
            "\n",
            "              Class  \n",
            "count  13953.000000  \n",
            "mean       0.004013  \n",
            "std        0.063227  \n",
            "min        0.000000  \n",
            "25%        0.000000  \n",
            "50%        0.000000  \n",
            "75%        0.000000  \n",
            "max        1.000000  \n",
            "\n",
            "[8 rows x 31 columns]\n"
          ]
        }
      ]
    },
    {
      "cell_type": "code",
      "source": [
        "print(data.isnull().sum())\n"
      ],
      "metadata": {
        "colab": {
          "base_uri": "https://localhost:8080/"
        },
        "id": "o-xYrZjQqEX1",
        "outputId": "384741c2-7473-4294-fabb-dbca2f2cbb6d"
      },
      "execution_count": null,
      "outputs": [
        {
          "output_type": "stream",
          "name": "stdout",
          "text": [
            "Time      0\n",
            "V1        0\n",
            "V2        0\n",
            "V3        0\n",
            "V4        0\n",
            "V5        0\n",
            "V6        0\n",
            "V7        0\n",
            "V8        0\n",
            "V9        0\n",
            "V10       0\n",
            "V11       0\n",
            "V12       0\n",
            "V13       0\n",
            "V14       0\n",
            "V15       0\n",
            "V16       0\n",
            "V17       1\n",
            "V18       1\n",
            "V19       1\n",
            "V20       1\n",
            "V21       1\n",
            "V22       1\n",
            "V23       1\n",
            "V24       1\n",
            "V25       1\n",
            "V26       1\n",
            "V27       1\n",
            "V28       1\n",
            "Amount    1\n",
            "Class     1\n",
            "dtype: int64\n"
          ]
        }
      ]
    },
    {
      "cell_type": "code",
      "source": [
        "data = data.dropna()"
      ],
      "metadata": {
        "id": "XTs6_BzUqMCA"
      },
      "execution_count": null,
      "outputs": []
    },
    {
      "cell_type": "code",
      "source": [
        "print(data.isnull().sum())"
      ],
      "metadata": {
        "colab": {
          "base_uri": "https://localhost:8080/"
        },
        "id": "v5foxtQGquy8",
        "outputId": "606f8bf8-869c-476f-d330-a1015ba6e673"
      },
      "execution_count": null,
      "outputs": [
        {
          "output_type": "stream",
          "name": "stdout",
          "text": [
            "Time      0\n",
            "V1        0\n",
            "V2        0\n",
            "V3        0\n",
            "V4        0\n",
            "V5        0\n",
            "V6        0\n",
            "V7        0\n",
            "V8        0\n",
            "V9        0\n",
            "V10       0\n",
            "V11       0\n",
            "V12       0\n",
            "V13       0\n",
            "V14       0\n",
            "V15       0\n",
            "V16       0\n",
            "V17       0\n",
            "V18       0\n",
            "V19       0\n",
            "V20       0\n",
            "V21       0\n",
            "V22       0\n",
            "V23       0\n",
            "V24       0\n",
            "V25       0\n",
            "V26       0\n",
            "V27       0\n",
            "V28       0\n",
            "Amount    0\n",
            "Class     0\n",
            "dtype: int64\n"
          ]
        }
      ]
    },
    {
      "cell_type": "code",
      "source": [
        "scaler = StandardScaler()\n",
        "data['Amount'] = scaler.fit_transform(data['Amount'].values.reshape(-1, 1))"
      ],
      "metadata": {
        "id": "yIUO8LbCrHv4"
      },
      "execution_count": null,
      "outputs": []
    },
    {
      "cell_type": "code",
      "source": [
        "# Drop the 'Time' column as it's not needed for prediction\n",
        "data = data.drop(['Time'], axis=1)"
      ],
      "metadata": {
        "id": "WE6m7o4NrKvo"
      },
      "execution_count": null,
      "outputs": []
    },
    {
      "cell_type": "code",
      "source": [
        "X = data.drop('Class', axis=1)\n",
        "y = data['Class']"
      ],
      "metadata": {
        "id": "3RocTKwyrO5j"
      },
      "execution_count": null,
      "outputs": []
    },
    {
      "cell_type": "code",
      "source": [
        "# Split the data into training and testing sets\n",
        "X_train, X_test, y_train, y_test = train_test_split(X, y, test_size=0.3, random_state=42, stratify=y)"
      ],
      "metadata": {
        "id": "OaKu19ByrSwd"
      },
      "execution_count": null,
      "outputs": []
    },
    {
      "cell_type": "code",
      "source": [
        "# Handle class imbalance using SMOTE\n",
        "sm = SMOTE(random_state=42)\n",
        "X_train_res, y_train_res = sm.fit_resample(X_train, y_train)"
      ],
      "metadata": {
        "id": "WmHE4nGTrWT9"
      },
      "execution_count": null,
      "outputs": []
    },
    {
      "cell_type": "code",
      "source": [
        "# Train the model - Logistic Regression\n",
        "lr = LogisticRegression()\n",
        "lr.fit(X_train_res, y_train_res)\n",
        "y_pred_lr = lr.predict(X_test)"
      ],
      "metadata": {
        "colab": {
          "base_uri": "https://localhost:8080/"
        },
        "id": "P04KmTsnrZaI",
        "outputId": "2402792d-651b-4080-d9be-411a14409c47"
      },
      "execution_count": null,
      "outputs": [
        {
          "output_type": "stream",
          "name": "stderr",
          "text": [
            "/usr/local/lib/python3.10/dist-packages/sklearn/linear_model/_logistic.py:458: ConvergenceWarning: lbfgs failed to converge (status=1):\n",
            "STOP: TOTAL NO. of ITERATIONS REACHED LIMIT.\n",
            "\n",
            "Increase the number of iterations (max_iter) or scale the data as shown in:\n",
            "    https://scikit-learn.org/stable/modules/preprocessing.html\n",
            "Please also refer to the documentation for alternative solver options:\n",
            "    https://scikit-learn.org/stable/modules/linear_model.html#logistic-regression\n",
            "  n_iter_i = _check_optimize_result(\n"
          ]
        }
      ]
    },
    {
      "cell_type": "code",
      "source": [
        "# Train the model - Random Forest\n",
        "rf = RandomForestClassifier()\n",
        "rf.fit(X_train_res, y_train_res)\n",
        "y_pred_rf = rf.predict(X_test)"
      ],
      "metadata": {
        "id": "E5IIVcgQrdX1"
      },
      "execution_count": null,
      "outputs": []
    },
    {
      "cell_type": "code",
      "source": [
        "# Evaluate the models\n",
        "print(\"Logistic Regression:\")\n",
        "print(confusion_matrix(y_test, y_pred_lr))\n",
        "print(classification_report(y_test, y_pred_lr))\n",
        "\n",
        "print(\"Random Forest:\")\n",
        "print(confusion_matrix(y_test, y_pred_rf))\n",
        "print(classification_report(y_test, y_pred_rf))"
      ],
      "metadata": {
        "colab": {
          "base_uri": "https://localhost:8080/"
        },
        "id": "ygi0a5w2rsyd",
        "outputId": "f89f2f42-4fb9-4184-f48e-9c5e2b7c1274"
      },
      "execution_count": null,
      "outputs": [
        {
          "output_type": "stream",
          "name": "stdout",
          "text": [
            "Logistic Regression:\n",
            "[[14082   163]\n",
            " [    3    41]]\n",
            "              precision    recall  f1-score   support\n",
            "\n",
            "         0.0       1.00      0.99      0.99     14245\n",
            "         1.0       0.20      0.93      0.33        44\n",
            "\n",
            "    accuracy                           0.99     14289\n",
            "   macro avg       0.60      0.96      0.66     14289\n",
            "weighted avg       1.00      0.99      0.99     14289\n",
            "\n",
            "Random Forest:\n",
            "[[14243     2]\n",
            " [    4    40]]\n",
            "              precision    recall  f1-score   support\n",
            "\n",
            "         0.0       1.00      1.00      1.00     14245\n",
            "         1.0       0.95      0.91      0.93        44\n",
            "\n",
            "    accuracy                           1.00     14289\n",
            "   macro avg       0.98      0.95      0.97     14289\n",
            "weighted avg       1.00      1.00      1.00     14289\n",
            "\n"
          ]
        }
      ]
    },
    {
      "cell_type": "code",
      "source": [
        "# Define a function to plot confusion matrix\n",
        "def plot_confusion_matrix(cm, title):\n",
        "    plt.figure(figsize=(6, 6))\n",
        "    sns.heatmap(cm, annot=True, fmt=\"d\", cmap=\"Blues\", square=True)\n",
        "    plt.title(title)\n",
        "    plt.ylabel('Actual')\n",
        "    plt.xlabel('Predicted')\n",
        "    plt.show()\n"
      ],
      "metadata": {
        "id": "jixI-aaNryn1"
      },
      "execution_count": null,
      "outputs": []
    },
    {
      "cell_type": "code",
      "source": [
        "# Confusion matrix for Logistic Regression\n",
        "cm_lr = confusion_matrix(y_test, y_pred_lr)\n",
        "plot_confusion_matrix(cm_lr, 'Logistic Regression Confusion Matrix')\n",
        "\n",
        "# Confusion matrix for Random Forest\n",
        "cm_rf = confusion_matrix(y_test, y_pred_rf)\n",
        "plot_confusion_matrix(cm_rf, 'Random Forest Confusion Matrix')"
      ],
      "metadata": {
        "colab": {
          "base_uri": "https://localhost:8080/",
          "height": 983
        },
        "id": "tLLZV0Tzr3F5",
        "outputId": "f22c774e-72fc-4d35-9e2f-18eaf4df2869"
      },
      "execution_count": null,
      "outputs": [
        {
          "output_type": "display_data",
          "data": {
            "text/plain": [
              "<Figure size 600x600 with 2 Axes>"
            ],
            "image/png": "[encoded data removed]"
          },
          "metadata": {}
        },
        {
          "output_type": "display_data",
          "data": {
            "text/plain": [
              "<Figure size 600x600 with 2 Axes>"
            ],
            "image/png": "[encoded data removed]"
          },
          "metadata": {}
        }
      ]
    }
  ]
}